{
 "cells": [
  {
   "cell_type": "code",
   "execution_count": 1,
   "metadata": {},
   "outputs": [],
   "source": [
    "from mapmatcher import MapMatcher\n",
    "from ipyleaflet import *"
   ]
  },
  {
   "cell_type": "code",
   "execution_count": 2,
   "metadata": {},
   "outputs": [],
   "source": [
    "model = MapMatcher(\"stmatch_config.json\")"
   ]
  },
  {
   "cell_type": "code",
   "execution_count": 3,
   "metadata": {},
   "outputs": [],
   "source": [
    "wkt = \"LINESTRING (18.08401107788086 59.296484077387184, 18.021526336669922 59.30060335721959, 17.997493743896484 59.32346943325267, 18.011398315429688 59.34211886129258, 18.039379119873047 59.35130847477326, 18.01929473876953 59.37160432776311)\"\n",
    "result = model.match_wkt(wkt)"
   ]
  },
  {
   "cell_type": "code",
   "execution_count": 4,
   "metadata": {},
   "outputs": [],
   "source": [
    "from shapely.wkt import dumps, loads\n",
    "from shapely.geometry import mapping\n",
    "original_geom = mapping(loads(wkt))\n",
    "matched_geom = mapping(loads(result.mgeom.export_wkt()))"
   ]
  },
  {
   "cell_type": "code",
   "execution_count": 5,
   "metadata": {},
   "outputs": [
    {
     "data": {
      "application/vnd.jupyter.widget-view+json": {
       "model_id": "8f0240e54caa4d759508612362550a51",
       "version_major": 2,
       "version_minor": 0
      },
      "text/plain": [
       "TWFwKGNlbnRlcj1bNTkuMzM0NTkxLCAxOC4wNjMyNF0sIGNvbnRyb2xzPShab29tQ29udHJvbChvcHRpb25zPVt1J3Bvc2l0aW9uJywgdSd6b29tX2luX3RleHQnLCB1J3pvb21faW5fdGl0bGXigKY=\n"
      ]
     },
     "metadata": {},
     "output_type": "display_data"
    }
   ],
   "source": [
    "original_geo_json = GeoJSON(data=original_geom, style = {'color': 'green', 'opacity':0.8, 'weight':5, 'dashArray':'20,20'})\n",
    "m = Map(center=(59.334591, 18.063240), zoom=12, basemap=basemaps.OpenStreetMap.Mapnik)\n",
    "m.add_layer(original_geo_json)\n",
    "matched_geo_json = GeoJSON(data=matched_geom, style = {'color': 'red', 'opacity':0.5, 'weight':4})\n",
    "m.add_layer(matched_geo_json)\n",
    "m.layout.height = '500px'\n",
    "m"
   ]
  },
  {
   "cell_type": "code",
   "execution_count": null,
   "metadata": {},
   "outputs": [],
   "source": []
  }
 ],
 "metadata": {
  "kernelspec": {
   "display_name": "Python 2",
   "language": "python",
   "name": "python2"
  },
  "language_info": {
   "codemirror_mode": {
    "name": "ipython",
    "version": 2
   },
   "file_extension": ".py",
   "mimetype": "text/x-python",
   "name": "python",
   "nbconvert_exporter": "python",
   "pygments_lexer": "ipython2",
   "version": "2.7.15"
  }
 },
 "nbformat": 4,
 "nbformat_minor": 2
}
