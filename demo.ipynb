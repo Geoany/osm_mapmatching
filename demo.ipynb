{
 "cells": [
  {
   "cell_type": "code",
   "execution_count": 1,
   "metadata": {},
   "outputs": [],
   "source": [
    "import fmm\n",
    "from ipyleaflet import *"
   ]
  },
  {
   "cell_type": "code",
   "execution_count": 2,
   "metadata": {},
   "outputs": [],
   "source": [
    "model = fmm.MapMatcher(\"fmm_web_config.xml\")"
   ]
  },
  {
   "cell_type": "code",
   "execution_count": 3,
   "metadata": {},
   "outputs": [],
   "source": [
    "wkt = \"LINESTRING (18.08401107788086 59.296484077387184, 18.021526336669922 59.30060335721959, 17.997493743896484 59.32346943325267, 18.011398315429688 59.34211886129258, 18.039379119873047 59.35130847477326, 18.01929473876953 59.37160432776311)\"\n",
    "result = model.match_wkt(wkt)"
   ]
  },
  {
   "cell_type": "code",
   "execution_count": 4,
   "metadata": {},
   "outputs": [],
   "source": [
    "from shapely.wkt import dumps, loads\n",
    "from shapely.geometry import mapping\n",
    "original_geom = mapping(loads(wkt))\n",
    "matched_geom = mapping(loads(result.mgeom))"
   ]
  },
  {
   "cell_type": "code",
   "execution_count": 5,
   "metadata": {},
   "outputs": [
    {
     "data": {
      "application/vnd.jupyter.widget-view+json": {
       "model_id": "37692bc87cb44734a0e2a4e5b273d873",
       "version_major": 2,
       "version_minor": 0
      },
      "text/plain": [
       "TWFwKGJhc2VtYXA9eyd1cmwnOiAnaHR0cHM6Ly97c30udGlsZS5vcGVuc3RyZWV0bWFwLm9yZy97en0ve3h9L3t5fS5wbmcnLCAnYXR0cmlidXRpb24nOiAnTWFwIGRhdGEgKGMpIDxhIGhyZWbigKY=\n"
      ]
     },
     "metadata": {},
     "output_type": "display_data"
    }
   ],
   "source": [
    "original_geo_json = GeoJSON(data=original_geom, style = {'color': 'green', 'opacity':0.8, 'weight':5, 'dashArray':'20,20'})\n",
    "m = Map(center=(59.334591, 18.063240), zoom=12, basemap=basemaps.OpenStreetMap.Mapnik)\n",
    "m.add_layer(original_geo_json)\n",
    "matched_geo_json = GeoJSON(data=matched_geom, style = {'color': 'red', 'opacity':0.8, 'weight':4})\n",
    "m.add_layer(matched_geo_json)\n",
    "m.layout.height = '500px'\n",
    "m"
   ]
  },
  {
   "cell_type": "code",
   "execution_count": null,
   "metadata": {},
   "outputs": [],
   "source": []
  }
 ],
 "metadata": {
  "kernelspec": {
   "display_name": "Python 2",
   "language": "python",
   "name": "python2"
  },
  "language_info": {
   "codemirror_mode": {
    "name": "ipython",
    "version": 2
   },
   "file_extension": ".py",
   "mimetype": "text/x-python",
   "name": "python",
   "nbconvert_exporter": "python",
   "pygments_lexer": "ipython2",
   "version": "2.7.13"
  }
 },
 "nbformat": 4,
 "nbformat_minor": 2
}
